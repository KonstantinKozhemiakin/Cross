{
  "cells": [
    {
      "cell_type": "code",
      "execution_count": null,
      "metadata": {
        "colab": {
          "base_uri": "https://localhost:8080/",
          "height": 73
        },
        "id": "VIWI3XtzeyUb",
        "outputId": "16facaff-66bd-4420-9ff1-fa52a2f47dfb"
      },
      "outputs": [
        {
          "output_type": "display_data",
          "data": {
            "text/plain": [
              "<IPython.core.display.HTML object>"
            ],
            "text/html": [
              "\n",
              "     <input type=\"file\" id=\"files-84ed410a-b20e-4285-8f76-101221479c53\" name=\"files[]\" multiple disabled\n",
              "        style=\"border:none\" />\n",
              "     <output id=\"result-84ed410a-b20e-4285-8f76-101221479c53\">\n",
              "      Upload widget is only available when the cell has been executed in the\n",
              "      current browser session. Please rerun this cell to enable.\n",
              "      </output>\n",
              "      <script>// Copyright 2017 Google LLC\n",
              "//\n",
              "// Licensed under the Apache License, Version 2.0 (the \"License\");\n",
              "// you may not use this file except in compliance with the License.\n",
              "// You may obtain a copy of the License at\n",
              "//\n",
              "//      http://www.apache.org/licenses/LICENSE-2.0\n",
              "//\n",
              "// Unless required by applicable law or agreed to in writing, software\n",
              "// distributed under the License is distributed on an \"AS IS\" BASIS,\n",
              "// WITHOUT WARRANTIES OR CONDITIONS OF ANY KIND, either express or implied.\n",
              "// See the License for the specific language governing permissions and\n",
              "// limitations under the License.\n",
              "\n",
              "/**\n",
              " * @fileoverview Helpers for google.colab Python module.\n",
              " */\n",
              "(function(scope) {\n",
              "function span(text, styleAttributes = {}) {\n",
              "  const element = document.createElement('span');\n",
              "  element.textContent = text;\n",
              "  for (const key of Object.keys(styleAttributes)) {\n",
              "    element.style[key] = styleAttributes[key];\n",
              "  }\n",
              "  return element;\n",
              "}\n",
              "\n",
              "// Max number of bytes which will be uploaded at a time.\n",
              "const MAX_PAYLOAD_SIZE = 100 * 1024;\n",
              "\n",
              "function _uploadFiles(inputId, outputId) {\n",
              "  const steps = uploadFilesStep(inputId, outputId);\n",
              "  const outputElement = document.getElementById(outputId);\n",
              "  // Cache steps on the outputElement to make it available for the next call\n",
              "  // to uploadFilesContinue from Python.\n",
              "  outputElement.steps = steps;\n",
              "\n",
              "  return _uploadFilesContinue(outputId);\n",
              "}\n",
              "\n",
              "// This is roughly an async generator (not supported in the browser yet),\n",
              "// where there are multiple asynchronous steps and the Python side is going\n",
              "// to poll for completion of each step.\n",
              "// This uses a Promise to block the python side on completion of each step,\n",
              "// then passes the result of the previous step as the input to the next step.\n",
              "function _uploadFilesContinue(outputId) {\n",
              "  const outputElement = document.getElementById(outputId);\n",
              "  const steps = outputElement.steps;\n",
              "\n",
              "  const next = steps.next(outputElement.lastPromiseValue);\n",
              "  return Promise.resolve(next.value.promise).then((value) => {\n",
              "    // Cache the last promise value to make it available to the next\n",
              "    // step of the generator.\n",
              "    outputElement.lastPromiseValue = value;\n",
              "    return next.value.response;\n",
              "  });\n",
              "}\n",
              "\n",
              "/**\n",
              " * Generator function which is called between each async step of the upload\n",
              " * process.\n",
              " * @param {string} inputId Element ID of the input file picker element.\n",
              " * @param {string} outputId Element ID of the output display.\n",
              " * @return {!Iterable<!Object>} Iterable of next steps.\n",
              " */\n",
              "function* uploadFilesStep(inputId, outputId) {\n",
              "  const inputElement = document.getElementById(inputId);\n",
              "  inputElement.disabled = false;\n",
              "\n",
              "  const outputElement = document.getElementById(outputId);\n",
              "  outputElement.innerHTML = '';\n",
              "\n",
              "  const pickedPromise = new Promise((resolve) => {\n",
              "    inputElement.addEventListener('change', (e) => {\n",
              "      resolve(e.target.files);\n",
              "    });\n",
              "  });\n",
              "\n",
              "  const cancel = document.createElement('button');\n",
              "  inputElement.parentElement.appendChild(cancel);\n",
              "  cancel.textContent = 'Cancel upload';\n",
              "  const cancelPromise = new Promise((resolve) => {\n",
              "    cancel.onclick = () => {\n",
              "      resolve(null);\n",
              "    };\n",
              "  });\n",
              "\n",
              "  // Wait for the user to pick the files.\n",
              "  const files = yield {\n",
              "    promise: Promise.race([pickedPromise, cancelPromise]),\n",
              "    response: {\n",
              "      action: 'starting',\n",
              "    }\n",
              "  };\n",
              "\n",
              "  cancel.remove();\n",
              "\n",
              "  // Disable the input element since further picks are not allowed.\n",
              "  inputElement.disabled = true;\n",
              "\n",
              "  if (!files) {\n",
              "    return {\n",
              "      response: {\n",
              "        action: 'complete',\n",
              "      }\n",
              "    };\n",
              "  }\n",
              "\n",
              "  for (const file of files) {\n",
              "    const li = document.createElement('li');\n",
              "    li.append(span(file.name, {fontWeight: 'bold'}));\n",
              "    li.append(span(\n",
              "        `(${file.type || 'n/a'}) - ${file.size} bytes, ` +\n",
              "        `last modified: ${\n",
              "            file.lastModifiedDate ? file.lastModifiedDate.toLocaleDateString() :\n",
              "                                    'n/a'} - `));\n",
              "    const percent = span('0% done');\n",
              "    li.appendChild(percent);\n",
              "\n",
              "    outputElement.appendChild(li);\n",
              "\n",
              "    const fileDataPromise = new Promise((resolve) => {\n",
              "      const reader = new FileReader();\n",
              "      reader.onload = (e) => {\n",
              "        resolve(e.target.result);\n",
              "      };\n",
              "      reader.readAsArrayBuffer(file);\n",
              "    });\n",
              "    // Wait for the data to be ready.\n",
              "    let fileData = yield {\n",
              "      promise: fileDataPromise,\n",
              "      response: {\n",
              "        action: 'continue',\n",
              "      }\n",
              "    };\n",
              "\n",
              "    // Use a chunked sending to avoid message size limits. See b/62115660.\n",
              "    let position = 0;\n",
              "    do {\n",
              "      const length = Math.min(fileData.byteLength - position, MAX_PAYLOAD_SIZE);\n",
              "      const chunk = new Uint8Array(fileData, position, length);\n",
              "      position += length;\n",
              "\n",
              "      const base64 = btoa(String.fromCharCode.apply(null, chunk));\n",
              "      yield {\n",
              "        response: {\n",
              "          action: 'append',\n",
              "          file: file.name,\n",
              "          data: base64,\n",
              "        },\n",
              "      };\n",
              "\n",
              "      let percentDone = fileData.byteLength === 0 ?\n",
              "          100 :\n",
              "          Math.round((position / fileData.byteLength) * 100);\n",
              "      percent.textContent = `${percentDone}% done`;\n",
              "\n",
              "    } while (position < fileData.byteLength);\n",
              "  }\n",
              "\n",
              "  // All done.\n",
              "  yield {\n",
              "    response: {\n",
              "      action: 'complete',\n",
              "    }\n",
              "  };\n",
              "}\n",
              "\n",
              "scope.google = scope.google || {};\n",
              "scope.google.colab = scope.google.colab || {};\n",
              "scope.google.colab._files = {\n",
              "  _uploadFiles,\n",
              "  _uploadFilesContinue,\n",
              "};\n",
              "})(self);\n",
              "</script> "
            ]
          },
          "metadata": {}
        },
        {
          "output_type": "stream",
          "name": "stdout",
          "text": [
            "Saving PSH_clean_2.xlsx to PSH_clean_2.xlsx\n"
          ]
        }
      ],
      "source": [
        "import pandas as pd\n",
        "from google.colab import files\n",
        "\n",
        "uploaded = files.upload()\n",
        "df = pd.read_excel(uploaded.get('PSH_clean_2.xlsx'))\n",
        "df = df.assign(kupka = '')\n",
        "data2 = df.copy()"
      ]
    },
    {
      "cell_type": "code",
      "execution_count": null,
      "metadata": {
        "id": "XczPC7Te4h8x"
      },
      "outputs": [],
      "source": [
        "data2 = df.copy()"
      ]
    },
    {
      "cell_type": "code",
      "execution_count": null,
      "metadata": {
        "id": "CgQXsUaMRuuN",
        "colab": {
          "base_uri": "https://localhost:8080/",
          "height": 104
        },
        "outputId": "74579051-cf42-4beb-8d0e-f8e530daeb60"
      },
      "outputs": [
        {
          "output_type": "stream",
          "name": "stderr",
          "text": [
            "/usr/local/lib/python3.8/dist-packages/pandas/core/indexing.py:1732: SettingWithCopyWarning: \n",
            "A value is trying to be set on a copy of a slice from a DataFrame\n",
            "\n",
            "See the caveats in the documentation: https://pandas.pydata.org/pandas-docs/stable/user_guide/indexing.html#returning-a-view-versus-a-copy\n",
            "  self._setitem_single_block(indexer, value, name)\n"
          ]
        },
        {
          "output_type": "display_data",
          "data": {
            "text/plain": [
              "<IPython.core.display.Javascript object>"
            ],
            "application/javascript": [
              "\n",
              "    async function download(id, filename, size) {\n",
              "      if (!google.colab.kernel.accessAllowed) {\n",
              "        return;\n",
              "      }\n",
              "      const div = document.createElement('div');\n",
              "      const label = document.createElement('label');\n",
              "      label.textContent = `Downloading \"${filename}\": `;\n",
              "      div.appendChild(label);\n",
              "      const progress = document.createElement('progress');\n",
              "      progress.max = size;\n",
              "      div.appendChild(progress);\n",
              "      document.body.appendChild(div);\n",
              "\n",
              "      const buffers = [];\n",
              "      let downloaded = 0;\n",
              "\n",
              "      const channel = await google.colab.kernel.comms.open(id);\n",
              "      // Send a message to notify the kernel that we're ready.\n",
              "      channel.send({})\n",
              "\n",
              "      for await (const message of channel.messages) {\n",
              "        // Send a message to notify the kernel that we're ready.\n",
              "        channel.send({})\n",
              "        if (message.buffers) {\n",
              "          for (const buffer of message.buffers) {\n",
              "            buffers.push(buffer);\n",
              "            downloaded += buffer.byteLength;\n",
              "            progress.value = downloaded;\n",
              "          }\n",
              "        }\n",
              "      }\n",
              "      const blob = new Blob(buffers, {type: 'application/binary'});\n",
              "      const a = document.createElement('a');\n",
              "      a.href = window.URL.createObjectURL(blob);\n",
              "      a.download = filename;\n",
              "      div.appendChild(a);\n",
              "      a.click();\n",
              "      div.remove();\n",
              "    }\n",
              "  "
            ]
          },
          "metadata": {}
        },
        {
          "output_type": "display_data",
          "data": {
            "text/plain": [
              "<IPython.core.display.Javascript object>"
            ],
            "application/javascript": [
              "download(\"download_22f92a47-70f3-4966-888b-e12bd8313080\", \"PSH.xlsx\", 545749)"
            ]
          },
          "metadata": {}
        }
      ],
      "source": [
        "def print_cros(data, first, second):\n",
        "  name = 'name'\n",
        "  done = 'done'\n",
        "  d = 'd'\n",
        "  kupka = 'kupka'\n",
        "  unique_art = pd.DataFrame(data[first].unique(), columns = [name])\n",
        "  done_art = pd.DataFrame([], columns = [name])\n",
        "  for i in range(0,len(unique_art)):\n",
        "      if ((done_art[name] == unique_art[name].iloc[i]).any()):\n",
        "        continue\n",
        "      else:\n",
        "        temp_for_find = {name:unique_art[name].iloc[i], done:['']}\n",
        "        temp_for_find = pd.DataFrame(temp_for_find)\n",
        "        temp = temp_for_find[name].loc[temp_for_find[done] == '']\n",
        "        temp = pd.DataFrame(temp)\n",
        "        while(len(temp)> 0):          \n",
        "          temp = temp_for_find[name].loc[temp_for_find[done] == '']\n",
        "          temp = pd.DataFrame(temp)\n",
        "          for x in range(0, len(temp)):\n",
        "            if ((done_art[name] == temp[name].iloc[x]).any()):\n",
        "              temp_for_find[done].at[temp_for_find[name] == temp[name].iloc[x]] = d\n",
        "            else:\n",
        "              data[kupka].at[(data[first] == temp[name].iloc[x]) & (data[kupka] == '')] = unique_art[name].iloc[i]\n",
        "              data[kupka].at[(data[second] == temp[name].iloc[x]) & (data[kupka] == '')] = unique_art[name].iloc[i]\n",
        "              done_art = done_art.append({name:temp[name].iloc[x]}, ignore_index = True)\n",
        "              temp_for_find[done].at[temp_for_find[name] == temp[name].iloc[x]] = d\n",
        "              t = data[second].loc[data[first] == temp[name].iloc[x]]\n",
        "              t = pd.DataFrame(t)\n",
        "              t2 = data[first].loc[data[second] == temp[name].iloc[x]]\n",
        "              t2 = pd.DataFrame(t2)\n",
        "              t2.rename(columns = {first : second}, inplace = True)\n",
        "              t = t.append(t2, ignore_index = True)\n",
        "              for j in range(0, len(t)):\n",
        "                if ((temp_for_find[name] == t[second].iloc[j]).any()):\n",
        "                  continue\n",
        "                elif ((done_art[name] == t[second].iloc[j]).any()):\n",
        "                  continue\n",
        "                else:\n",
        "                  temp_for_find = temp_for_find.append({name:t[second].iloc[j], done:''}, ignore_index = True)\n",
        "  return data\n",
        "res = print_cros(data2,'art_name matrix','art_name cros')\n",
        "res.to_excel(\"PSH.xlsx\")\n",
        "files.download(\"PSH.xlsx\")"
      ]
    },
    {
      "cell_type": "code",
      "execution_count": null,
      "metadata": {
        "id": "YMrENl6spTZy"
      },
      "outputs": [],
      "source": [
        "temp_for_find = {'name': ['ghghgh','uuhuuhh','rfrfrf'], 'done': ['','d','']}\n",
        "temp_for_find = pd.DataFrame(temp_for_find)\n",
        "temp = temp_for_find['name'].loc[temp_for_find['done']=='']\n",
        "temp = pd.DataFrame(temp)\n",
        "done_art = pd.DataFrame([], columns = ['name'])\n",
        "#print(temp)\n",
        "temp_for_find_2 = {'name': ['rfrfrf','uuhuuhh','u'], 'done': ['','','d']}\n",
        "temp_for_find_2 = pd.DataFrame(temp_for_find_2)\n",
        "#print(temp_for_find_2)\n",
        "#for i in range(0, len(temp_for_find_2)):\n",
        "  #print((temp['name']== temp_for_find_2['name'][i]).any())\n",
        "g = pd.DataFrame([temp_for_find_2['name'][1]], columns = ['name'])\n",
        "temp_for_find = temp_for_find.append({'name':temp_for_find_2['name'][1],'done':\"\"}, ignore_index = True)\n",
        "temp = temp_for_find['name'].loc[temp_for_find['done']=='']\n",
        "#temp_for_find\n"
      ]
    },
    {
      "cell_type": "code",
      "execution_count": null,
      "metadata": {
        "id": "rVI9p0PouMH4"
      },
      "outputs": [],
      "source": [
        "df.loc[df['art_name cros']=='0331402201']\n"
      ]
    },
    {
      "cell_type": "code",
      "execution_count": null,
      "metadata": {
        "colab": {
          "base_uri": "https://localhost:8080/"
        },
        "id": "0aMSTUwlf3-0",
        "outputId": "c33964c5-14be-485a-afdf-ad8ca2aafccf"
      },
      "outputs": [
        {
          "data": {
            "text/plain": [
              "7657"
            ]
          },
          "execution_count": 70,
          "metadata": {},
          "output_type": "execute_result"
        }
      ],
      "source": [
        "unique_art = pd.DataFrame(df['art_name matrix'].unique(),columns=['name'])\n",
        "unique_art2 = pd.DataFrame(df['art_name cros'].unique(),columns=['name'])\n",
        "#unique_art = unique_art.append(unique_art2,ignore_index=True)\n",
        "#unique_art = pd.DataFrame(unique_art['name'].unique(),columns=['name'])\n",
        "len(unique_art)\n"
      ]
    },
    {
      "cell_type": "code",
      "execution_count": null,
      "metadata": {
        "id": "OOr7Yr0QiN8J"
      },
      "outputs": [],
      "source": [
        "df2 =pd.DataFrame(df['art_name matrix'].loc[df['art_name cros']==a])"
      ]
    },
    {
      "cell_type": "code",
      "execution_count": null,
      "metadata": {
        "id": "MI8bmrLGTxhM"
      },
      "outputs": [],
      "source": [
        "data2"
      ]
    }
  ],
  "metadata": {
    "colab": {
      "provenance": []
    },
    "kernelspec": {
      "display_name": "Python 3",
      "name": "python3"
    },
    "language_info": {
      "name": "python"
    }
  },
  "nbformat": 4,
  "nbformat_minor": 0
}